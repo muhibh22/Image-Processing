{
  "nbformat": 4,
  "nbformat_minor": 0,
  "metadata": {
    "colab": {
      "name": "19101131_ CSE428_Fall21_Assignment_4.ipynb",
      "provenance": [],
      "collapsed_sections": []
    },
    "kernelspec": {
      "name": "python3",
      "display_name": "Python 3"
    },
    "language_info": {
      "name": "python"
    }
  },
  "cells": [
    {
      "cell_type": "markdown",
      "metadata": {
        "id": "JwV8CXxIzjIX"
      },
      "source": [
        "# **Assignment 4**"
      ]
    },
    {
      "cell_type": "code",
      "source": [
        "NAME = \"Md. Mohibul Hasan\"\n",
        "ID = \"19101131\""
      ],
      "metadata": {
        "id": "Yy_-VXXW7BiG"
      },
      "execution_count": 8,
      "outputs": []
    },
    {
      "cell_type": "markdown",
      "metadata": {
        "id": "jA-ge4vIzspK"
      },
      "source": [
        "In this assignment you will have to create the VGG-19 network from scratch, using the keras functional API and explore its usage for different tasks. [(The Functional API).](https://www.tensorflow.org/guide/keras/functional)\n",
        "[Going through the *Setup* and *Introduction* sections of the previous tutorial will suffice if you haven't attended the live demo sessions.]"
      ]
    },
    {
      "cell_type": "markdown",
      "metadata": {
        "id": "NFT2muZmz84T"
      },
      "source": [
        "Read the VGG paper: [Very Deep Convolutional Networks for Large-Scale Image Recognition - Karen Simonyan, Andrew Zisserman](https://arxiv.org/abs/1409.1556) and complete the following tasks"
      ]
    },
    {
      "cell_type": "markdown",
      "metadata": {
        "id": "_7QX686O2icE"
      },
      "source": [
        "## Task 1\n",
        "\n",
        "Complete the following block to create a VGG19 network suitable for the ILSVRC classification task in keras and print the network's summary. (You don't have to train the network.)\n",
        "\n",
        "[Hint: __Section 2 CONVNET CONFIGURATIONS__ of the paper contains necessary information about the network architecture of the VGG network. (Column E of Table 1 is the VGG19 network architecture.)]"
      ]
    },
    {
      "cell_type": "code",
      "metadata": {
        "id": "rZCyRSG7zhDW"
      },
      "source": [
        "# Import necessary libraries\n",
        "import tensorflow as tf"
      ],
      "execution_count": 9,
      "outputs": []
    },
    {
      "cell_type": "code",
      "metadata": {
        "id": "mhUGnfjS4GxK",
        "colab": {
          "base_uri": "https://localhost:8080/"
        },
        "outputId": "84fd06b6-eace-4e6e-98eb-b03d790888dd"
      },
      "source": [
        "inputs = tf.keras.Input(shape=(224, 224, 3))\n",
        "\n",
        "# to do\n",
        "x = tf.keras.layers.Conv2D(64, 3, activation = \"relu\", padding='same') (inputs)\n",
        "x = tf.keras.layers.Conv2D(64, 3, activation = \"relu\", padding='same') (x)\n",
        "block_1_output = tf.keras.layers.MaxPooling2D(2) (x)\n",
        "\n",
        "x = tf.keras.layers.Conv2D(128, 3, activation = \"relu\", padding='same') (block_1_output)\n",
        "x = tf.keras.layers.Conv2D(128, 3, activation = \"relu\", padding='same') (x)\n",
        "block_2_output = tf.keras.layers.MaxPooling2D(2) (x)\n",
        "\n",
        "x = tf.keras.layers.Conv2D(256, 3, activation = \"relu\", padding='same') (block_2_output)\n",
        "x = tf.keras.layers.Conv2D(256, 3, activation = \"relu\", padding='same') (x)\n",
        "x = tf.keras.layers.Conv2D(256, 3, activation = \"relu\", padding='same') (x)\n",
        "x = tf.keras.layers.Conv2D(256, 3, activation = \"relu\", padding='same') (x)\n",
        "block_3_output = tf.keras.layers.MaxPooling2D(2) (x)\n",
        "\n",
        "x = tf.keras.layers.Conv2D(512, 3, activation = \"relu\", padding='same') (block_3_output)\n",
        "x = tf.keras.layers.Conv2D(512, 3, activation = \"relu\", padding='same') (x)\n",
        "x = tf.keras.layers.Conv2D(512, 3, activation = \"relu\", padding='same') (x)\n",
        "x = tf.keras.layers.Conv2D(512, 3, activation = \"relu\", padding='same') (x)\n",
        "block_4_output = tf.keras.layers.MaxPooling2D(2) (x)\n",
        "\n",
        "x = tf.keras.layers.Conv2D(512, 3, activation = \"relu\", padding='same') (block_4_output)\n",
        "x = tf.keras.layers.Conv2D(512, 3, activation = \"relu\", padding='same') (x)\n",
        "x = tf.keras.layers.Conv2D(512, 3, activation = \"relu\", padding='same') (x)\n",
        "x = tf.keras.layers.Conv2D(512, 3, activation = \"relu\", padding='same') (x)\n",
        "block_5_output = tf.keras.layers.MaxPooling2D(2) (x)\n",
        "\n",
        "x = tf.keras.layers.Flatten() (block_5_output)\n",
        "x = tf.keras.layers.Dense(4096, activation='relu') (x)\n",
        "x = tf.keras.layers.Dense(4096, activation='relu') (x)\n",
        "outputs = tf.keras.layers.Dense(1000, activation=\"softmax\") (x)\n",
        "\n",
        "model = tf.keras.Model(inputs=inputs, outputs=outputs, name=\"vgg19\")\n",
        "\n",
        "model.summary()\n"
      ],
      "execution_count": 10,
      "outputs": [
        {
          "output_type": "stream",
          "name": "stdout",
          "text": [
            "Model: \"vgg19\"\n",
            "_________________________________________________________________\n",
            " Layer (type)                Output Shape              Param #   \n",
            "=================================================================\n",
            " input_4 (InputLayer)        [(None, 224, 224, 3)]     0         \n",
            "                                                                 \n",
            " conv2d_48 (Conv2D)          (None, 224, 224, 64)      1792      \n",
            "                                                                 \n",
            " conv2d_49 (Conv2D)          (None, 224, 224, 64)      36928     \n",
            "                                                                 \n",
            " max_pooling2d_15 (MaxPoolin  (None, 112, 112, 64)     0         \n",
            " g2D)                                                            \n",
            "                                                                 \n",
            " conv2d_50 (Conv2D)          (None, 112, 112, 128)     73856     \n",
            "                                                                 \n",
            " conv2d_51 (Conv2D)          (None, 112, 112, 128)     147584    \n",
            "                                                                 \n",
            " max_pooling2d_16 (MaxPoolin  (None, 56, 56, 128)      0         \n",
            " g2D)                                                            \n",
            "                                                                 \n",
            " conv2d_52 (Conv2D)          (None, 56, 56, 256)       295168    \n",
            "                                                                 \n",
            " conv2d_53 (Conv2D)          (None, 56, 56, 256)       590080    \n",
            "                                                                 \n",
            " conv2d_54 (Conv2D)          (None, 56, 56, 256)       590080    \n",
            "                                                                 \n",
            " conv2d_55 (Conv2D)          (None, 56, 56, 256)       590080    \n",
            "                                                                 \n",
            " max_pooling2d_17 (MaxPoolin  (None, 28, 28, 256)      0         \n",
            " g2D)                                                            \n",
            "                                                                 \n",
            " conv2d_56 (Conv2D)          (None, 28, 28, 512)       1180160   \n",
            "                                                                 \n",
            " conv2d_57 (Conv2D)          (None, 28, 28, 512)       2359808   \n",
            "                                                                 \n",
            " conv2d_58 (Conv2D)          (None, 28, 28, 512)       2359808   \n",
            "                                                                 \n",
            " conv2d_59 (Conv2D)          (None, 28, 28, 512)       2359808   \n",
            "                                                                 \n",
            " max_pooling2d_18 (MaxPoolin  (None, 14, 14, 512)      0         \n",
            " g2D)                                                            \n",
            "                                                                 \n",
            " conv2d_60 (Conv2D)          (None, 14, 14, 512)       2359808   \n",
            "                                                                 \n",
            " conv2d_61 (Conv2D)          (None, 14, 14, 512)       2359808   \n",
            "                                                                 \n",
            " conv2d_62 (Conv2D)          (None, 14, 14, 512)       2359808   \n",
            "                                                                 \n",
            " conv2d_63 (Conv2D)          (None, 14, 14, 512)       2359808   \n",
            "                                                                 \n",
            " max_pooling2d_19 (MaxPoolin  (None, 7, 7, 512)        0         \n",
            " g2D)                                                            \n",
            "                                                                 \n",
            " flatten_3 (Flatten)         (None, 25088)             0         \n",
            "                                                                 \n",
            " dense_9 (Dense)             (None, 4096)              102764544 \n",
            "                                                                 \n",
            " dense_10 (Dense)            (None, 4096)              16781312  \n",
            "                                                                 \n",
            " dense_11 (Dense)            (None, 1000)              4097000   \n",
            "                                                                 \n",
            "=================================================================\n",
            "Total params: 143,667,240\n",
            "Trainable params: 143,667,240\n",
            "Non-trainable params: 0\n",
            "_________________________________________________________________\n"
          ]
        }
      ]
    },
    {
      "cell_type": "markdown",
      "metadata": {
        "id": "vYOHfws84la6"
      },
      "source": [
        "Your summary should match the following:\n",
        "```\n",
        "Model: \"vgg19\"\n",
        "_________________________________________________________________\n",
        "Layer (type)                 Output Shape              Param #   \n",
        "=================================================================\n",
        "input_1 (InputLayer)         [(None, 224, 224, 3)]     0         \n",
        "_________________________________________________________________\n",
        "block1_conv1 (Conv2D)        (None, 224, 224, 64)      1792      \n",
        "_________________________________________________________________\n",
        "block1_conv2 (Conv2D)        (None, 224, 224, 64)      36928     \n",
        "_________________________________________________________________\n",
        "block1_pool (MaxPooling2D)   (None, 112, 112, 64)      0         \n",
        "_________________________________________________________________\n",
        "block2_conv1 (Conv2D)        (None, 112, 112, 128)     73856     \n",
        "_________________________________________________________________\n",
        "block2_conv2 (Conv2D)        (None, 112, 112, 128)     147584    \n",
        "_________________________________________________________________\n",
        "block2_pool (MaxPooling2D)   (None, 56, 56, 128)       0         \n",
        "_________________________________________________________________\n",
        "block3_conv1 (Conv2D)        (None, 56, 56, 256)       295168    \n",
        "_________________________________________________________________\n",
        "block3_conv2 (Conv2D)        (None, 56, 56, 256)       590080    \n",
        "_________________________________________________________________\n",
        "block3_conv3 (Conv2D)        (None, 56, 56, 256)       590080    \n",
        "_________________________________________________________________\n",
        "block3_conv4 (Conv2D)        (None, 56, 56, 256)       590080    \n",
        "_________________________________________________________________\n",
        "block3_pool (MaxPooling2D)   (None, 28, 28, 256)       0         \n",
        "_________________________________________________________________\n",
        "block4_conv1 (Conv2D)        (None, 28, 28, 512)       1180160   \n",
        "_________________________________________________________________\n",
        "block4_conv2 (Conv2D)        (None, 28, 28, 512)       2359808   \n",
        "_________________________________________________________________\n",
        "block4_conv3 (Conv2D)        (None, 28, 28, 512)       2359808   \n",
        "_________________________________________________________________\n",
        "block4_conv4 (Conv2D)        (None, 28, 28, 512)       2359808   \n",
        "_________________________________________________________________\n",
        "block4_pool (MaxPooling2D)   (None, 14, 14, 512)       0         \n",
        "_________________________________________________________________\n",
        "block5_conv1 (Conv2D)        (None, 14, 14, 512)       2359808   \n",
        "_________________________________________________________________\n",
        "block5_conv2 (Conv2D)        (None, 14, 14, 512)       2359808   \n",
        "_________________________________________________________________\n",
        "block5_conv3 (Conv2D)        (None, 14, 14, 512)       2359808   \n",
        "_________________________________________________________________\n",
        "block5_conv4 (Conv2D)        (None, 14, 14, 512)       2359808   \n",
        "_________________________________________________________________\n",
        "block5_pool (MaxPooling2D)   (None, 7, 7, 512)         0         \n",
        "_________________________________________________________________\n",
        "flatten (Flatten)            (None, 25088)             0         \n",
        "_________________________________________________________________\n",
        "fc1 (Dense)                  (None, 4096)              102764544 \n",
        "_________________________________________________________________\n",
        "fc2 (Dense)                  (None, 4096)              16781312  \n",
        "_________________________________________________________________\n",
        "predictions (Dense)          (None, 1000)              4097000   \n",
        "=================================================================\n",
        "Total params: 143,667,240\n",
        "Trainable params: 143,667,240\n",
        "Non-trainable params: 0\n",
        "_________________________________________________________________\n",
        "```\n",
        "\n"
      ]
    },
    {
      "cell_type": "markdown",
      "metadata": {
        "id": "QjtSv3A_76CY"
      },
      "source": [
        "## Task 2\n",
        "\n",
        "What percentage of total parameters are in the fully connected layers?"
      ]
    },
    {
      "cell_type": "markdown",
      "metadata": {
        "id": "9eBK6yk08K5w"
      },
      "source": [
        "86%"
      ]
    },
    {
      "cell_type": "markdown",
      "metadata": {
        "id": "BT3xbCIM8N4J"
      },
      "source": [
        "## Task 3\n",
        "\n",
        "The VGG19 network from task 1 contains a Dense (FC) output layer with 1000 units for the ILSVRC classification task. How could you modify the current output layer so that it is capable of classifying the CIFAR-100 dataset, which has a total number of 100 classes?"
      ]
    },
    {
      "cell_type": "markdown",
      "metadata": {
        "id": "v4qnBvly9YSo"
      },
      "source": [
        "We have to change the parameter in dense layer from 1000 to 100"
      ]
    },
    {
      "cell_type": "markdown",
      "metadata": {
        "id": "zXzTjgfT9ajY"
      },
      "source": [
        "##Task 4\n",
        "\n",
        "The VGG19 network from task 1 was designed for the ILSVRC classification challenge, but as we know there was a seperate challenge for image localisation. How could you modify the current ouput layer so that is suitable for the ILSVRC localisation task?\n",
        "\n",
        "[Hint: __Section A LOCALISATION__ contains information about the localisation task.]"
      ]
    },
    {
      "cell_type": "markdown",
      "metadata": {
        "id": "EEjY7PL1DfuY"
      },
      "source": [
        "The fully connected layers will predict bounding box location. That is how we can use this model for localization task."
      ]
    },
    {
      "cell_type": "markdown",
      "metadata": {
        "id": "CLRO3JhR9c2Q"
      },
      "source": [
        "## Task 5\n",
        "\n",
        "The VGG19 network from task 1 was designed for the ILSVRC classification challenge. Explain how the authors proposed this deep network as a feature extractor for other computer vision tasks.\n",
        "[Hint: __B GENERALISATION OF VERY DEEP FEATURES__ contains information about using the VGG network as a feature extractor.]"
      ]
    },
    {
      "cell_type": "markdown",
      "metadata": {
        "id": "D6AwIA2SDh54"
      },
      "source": [
        "First the VGG19 model is imported to preprocess the image and scale pixel values. Vgg19 model is a series of convolution layers followed by one or more dense fully connected layers. From the input layer to the last max pooling layer is regarded as feature extraction part of the model, while the rest of the network is regarded as classification part of the model. \n"
      ]
    },
    {
      "cell_type": "markdown",
      "metadata": {
        "id": "E5zgyOw8BJ-4"
      },
      "source": [
        "### --THE END--"
      ]
    }
  ]
}